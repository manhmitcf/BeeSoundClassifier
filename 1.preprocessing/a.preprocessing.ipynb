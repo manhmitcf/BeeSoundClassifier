{
 "cells": [
  {
   "cell_type": "markdown",
   "metadata": {},
   "source": [
    "# Import Libraries"
   ]
  },
  {
   "cell_type": "code",
   "execution_count": 4,
   "metadata": {},
   "outputs": [],
   "source": [
    "import os"
   ]
  },
  {
   "cell_type": "code",
   "execution_count": 6,
   "metadata": {},
   "outputs": [],
   "source": [
    "def remove_duplicate_files(folder_path):\n",
    "    seen_files = set()  # Tập hợp để lưu trữ các tên file đã gặp\n",
    "    deleted_files = []  # Danh sách các file đã bị xóa\n",
    "\n",
    "    for file in os.listdir(folder_path):\n",
    "        file_name, file_ext = os.path.splitext(file)  # Tách tên và phần mở rộng\n",
    "        file_path = os.path.join(folder_path, file)\n",
    "\n",
    "        if file_name in seen_files:  # Nếu tên file đã tồn tại\n",
    "            os.remove(file_path)  # Xóa file\n",
    "            deleted_files.append(file)  # Lưu tên file đã xóa\n",
    "        else:\n",
    "            seen_files.add(file_name)  # Thêm file vào danh sách đã gặp\n",
    "\n",
    "    # In danh sách file bị xóa\n",
    "    if deleted_files:\n",
    "        print(\"Các file bị xóa do trùng tên:\")\n",
    "        for f in deleted_files:\n",
    "            print(f)\n",
    "    else:\n",
    "        print(\"Không có file trùng tên nào.\")\n"
   ]
  },
  {
   "cell_type": "markdown",
   "metadata": {},
   "source": [
    "## Load foder "
   ]
  },
  {
   "cell_type": "code",
   "execution_count": 8,
   "metadata": {},
   "outputs": [
    {
     "name": "stdout",
     "output_type": "stream",
     "text": [
      "Không có file trùng tên nào.\n",
      "Không có file trùng tên nào.\n",
      "Không có file trùng tên nào.\n"
     ]
    }
   ],
   "source": [
    "foder_path = r'C:\\Users\\manhm\\Desktop\\Queen_classification\\dataset\\nuhive_processed'\n",
    "for folder in os.listdir(foder_path):\n",
    "    folder_path = os.path.join(foder_path, folder)\n",
    "    remove_duplicate_files(folder_path)"
   ]
  },
  {
   "cell_type": "code",
   "execution_count": 9,
   "metadata": {},
   "outputs": [],
   "source": [
    "def create_folder(folder_path):\n",
    "    if not os.path.exists(folder_path):\n",
    "        os.makedirs(folder_path)"
   ]
  },
  {
   "cell_type": "code",
   "execution_count": 11,
   "metadata": {},
   "outputs": [],
   "source": [
    "train_path = r'C:\\Users\\manhm\\Desktop\\Queen_classification\\dataset\\train'\n",
    "test_path = r'C:\\Users\\manhm\\Desktop\\Queen_classification\\dataset\\test'\n",
    "path_create = [train_path, test_path]"
   ]
  },
  {
   "cell_type": "markdown",
   "metadata": {},
   "source": [
    "# Tạo tập tran và test"
   ]
  },
  {
   "cell_type": "code",
   "execution_count": 15,
   "metadata": {},
   "outputs": [],
   "source": [
    "for path in path_create:\n",
    "    create_folder(path)"
   ]
  },
  {
   "cell_type": "code",
   "execution_count": 17,
   "metadata": {},
   "outputs": [],
   "source": [
    "source_folders = {\n",
    "    \"bee\": r\"C:\\Users\\manhm\\Desktop\\Queen_classification\\dataset\\nuhive_processed\\bee\",\n",
    "    \"no_bee\": r\"C:\\Users\\manhm\\Desktop\\Queen_classification\\dataset\\nuhive_processed\\nobee\",\n",
    "    \"noqueen\": r\"C:\\Users\\manhm\\Desktop\\Queen_classification\\dataset\\nuhive_processed\\noqueen\"\n",
    "}"
   ]
  },
  {
   "cell_type": "code",
   "execution_count": 18,
   "metadata": {},
   "outputs": [],
   "source": [
    "train_folder = r\"C:\\Users\\manhm\\Desktop\\Queen_classification\\dataset\\train\"\n",
    "test_folder = r\"C:\\Users\\manhm\\Desktop\\Queen_classification\\dataset\\test\""
   ]
  },
  {
   "cell_type": "code",
   "execution_count": 19,
   "metadata": {},
   "outputs": [],
   "source": [
    "# Tạo các thư mục con cho train và test\n",
    "for folder in [train_folder, test_folder]:\n",
    "    for category in source_folders.keys():\n",
    "        category_folder = os.path.join(folder, category)\n",
    "        os.makedirs(category_folder, exist_ok=True)\n"
   ]
  },
  {
   "cell_type": "code",
   "execution_count": 21,
   "metadata": {},
   "outputs": [],
   "source": [
    "# Tỷ lệ train/test (80% train, 20% test)\n",
    "train_ratio = 0.8"
   ]
  },
  {
   "cell_type": "code",
   "execution_count": 22,
   "metadata": {},
   "outputs": [
    {
     "name": "stdout",
     "output_type": "stream",
     "text": [
      "Hoàn thành việc trộn và chia dữ liệu vào các thư mục con!\n"
     ]
    }
   ],
   "source": [
    "import shutil\n",
    "import random\n",
    "# Trộn file từ các thư mục nguồn\n",
    "for category, src_path in source_folders.items():\n",
    "    files = os.listdir(src_path)  # Lấy danh sách file\n",
    "    random.shuffle(files)  # Trộn ngẫu nhiên\n",
    "\n",
    "    train_count = int(len(files) * train_ratio)  # Số lượng file cho train\n",
    "    train_files = files[:train_count]\n",
    "    test_files = files[train_count:]\n",
    "\n",
    "    # Copy vào thư mục train\n",
    "    for file in train_files:\n",
    "        src_file = os.path.join(src_path, file)\n",
    "        dest_file = os.path.join(train_folder, category, file)  # Đưa vào thư mục đúng trong train\n",
    "        shutil.copy(src_file, dest_file)\n",
    "\n",
    "    # Copy vào thư mục test\n",
    "    for file in test_files:\n",
    "        src_file = os.path.join(src_path, file)\n",
    "        dest_file = os.path.join(test_folder, category, file)  # Đưa vào thư mục đúng trong test\n",
    "        shutil.copy(src_file, dest_file)\n",
    "\n",
    "print(\"Hoàn thành việc trộn và chia dữ liệu vào các thư mục con!\")"
   ]
  },
  {
   "cell_type": "code",
   "execution_count": null,
   "metadata": {},
   "outputs": [],
   "source": []
  }
 ],
 "metadata": {
  "kernelspec": {
   "display_name": "base",
   "language": "python",
   "name": "python3"
  },
  "language_info": {
   "codemirror_mode": {
    "name": "ipython",
    "version": 3
   },
   "file_extension": ".py",
   "mimetype": "text/x-python",
   "name": "python",
   "nbconvert_exporter": "python",
   "pygments_lexer": "ipython3",
   "version": "3.11.5"
  }
 },
 "nbformat": 4,
 "nbformat_minor": 2
}
