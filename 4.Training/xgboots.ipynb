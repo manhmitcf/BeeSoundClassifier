{
 "cells": [
  {
   "cell_type": "code",
   "execution_count": 1,
   "metadata": {},
   "outputs": [
    {
     "name": "stdout",
     "output_type": "stream",
     "text": [
      "\n",
      "📂 Batch 0\n",
      "Training XGBoost\n",
      "Fitting 3 folds for each of 10 candidates, totalling 30 fits\n"
     ]
    },
    {
     "name": "stderr",
     "output_type": "stream",
     "text": [
      "c:\\Users\\manhm\\anaconda3\\Lib\\site-packages\\xgboost\\core.py:158: UserWarning: [23:22:28] WARNING: C:\\buildkite-agent\\builds\\buildkite-windows-cpu-autoscaling-group-i-08cbc0333d8d4aae1-1\\xgboost\\xgboost-ci-windows\\src\\learner.cc:740: \n",
      "Parameters: { \"use_label_encoder\" } are not used.\n",
      "\n",
      "  warnings.warn(smsg, UserWarning)\n"
     ]
    },
    {
     "name": "stdout",
     "output_type": "stream",
     "text": [
      "MFCC: 13\n",
      "[[1013   58   24]\n",
      " [ 172  291  229]\n",
      " [   5   30  938]]\n",
      "Fitting 3 folds for each of 10 candidates, totalling 30 fits\n"
     ]
    },
    {
     "name": "stderr",
     "output_type": "stream",
     "text": [
      "c:\\Users\\manhm\\anaconda3\\Lib\\site-packages\\xgboost\\core.py:158: UserWarning: [23:22:53] WARNING: C:\\buildkite-agent\\builds\\buildkite-windows-cpu-autoscaling-group-i-08cbc0333d8d4aae1-1\\xgboost\\xgboost-ci-windows\\src\\learner.cc:740: \n",
      "Parameters: { \"use_label_encoder\" } are not used.\n",
      "\n",
      "  warnings.warn(smsg, UserWarning)\n"
     ]
    },
    {
     "name": "stdout",
     "output_type": "stream",
     "text": [
      "MFCC: 20\n",
      "[[1025   60   10]\n",
      " [ 186  290  216]\n",
      " [   4   18  951]]\n",
      "Fitting 3 folds for each of 10 candidates, totalling 30 fits\n"
     ]
    },
    {
     "name": "stderr",
     "output_type": "stream",
     "text": [
      "c:\\Users\\manhm\\anaconda3\\Lib\\site-packages\\xgboost\\core.py:158: UserWarning: [23:23:53] WARNING: C:\\buildkite-agent\\builds\\buildkite-windows-cpu-autoscaling-group-i-08cbc0333d8d4aae1-1\\xgboost\\xgboost-ci-windows\\src\\learner.cc:740: \n",
      "Parameters: { \"use_label_encoder\" } are not used.\n",
      "\n",
      "  warnings.warn(smsg, UserWarning)\n"
     ]
    },
    {
     "name": "stdout",
     "output_type": "stream",
     "text": [
      "MFCC: 40\n",
      "[[1040   41   14]\n",
      " [ 191  279  222]\n",
      " [   9   22  942]]\n",
      "Fitting 3 folds for each of 10 candidates, totalling 30 fits\n"
     ]
    },
    {
     "name": "stderr",
     "output_type": "stream",
     "text": [
      "c:\\Users\\manhm\\anaconda3\\Lib\\site-packages\\xgboost\\core.py:158: UserWarning: [23:25:30] WARNING: C:\\buildkite-agent\\builds\\buildkite-windows-cpu-autoscaling-group-i-08cbc0333d8d4aae1-1\\xgboost\\xgboost-ci-windows\\src\\learner.cc:740: \n",
      "Parameters: { \"use_label_encoder\" } are not used.\n",
      "\n",
      "  warnings.warn(smsg, UserWarning)\n"
     ]
    },
    {
     "name": "stdout",
     "output_type": "stream",
     "text": [
      "MFCC: 80\n",
      "[[1035   59    1]\n",
      " [ 151  334  207]\n",
      " [   2   30  941]]\n",
      "\n",
      "📌 Kết quả Batch 0:\n",
      "   numofMFCC  n_fft  Hop_length  \\\n",
      "0         13   1024         256   \n",
      "1         20   1024         256   \n",
      "2         40   1024         256   \n",
      "3         80   1024         256   \n",
      "\n",
      "                                Best_hyperparameters  test_accuracy  macro_f1  \\\n",
      "0  {'subsample': 0.7, 'n_estimators': 100, 'max_d...       0.812319  0.765661   \n",
      "1  {'subsample': 0.7, 'n_estimators': 100, 'max_d...       0.821014  0.773089   \n",
      "2  {'subsample': 0.7, 'n_estimators': 100, 'max_d...       0.819203  0.768772   \n",
      "3  {'subsample': 0.8, 'n_estimators': 100, 'max_d...       0.836957  0.797568   \n",
      "\n",
      "        time  \n",
      "0  30.090824  \n",
      "1  26.071815  \n",
      "2  59.974732  \n",
      "3  95.774533  \n",
      "\n",
      "📂 Batch 1\n",
      "Training XGBoost\n",
      "Fitting 3 folds for each of 10 candidates, totalling 30 fits\n"
     ]
    },
    {
     "name": "stderr",
     "output_type": "stream",
     "text": [
      "c:\\Users\\manhm\\anaconda3\\Lib\\site-packages\\xgboost\\core.py:158: UserWarning: [23:25:41] WARNING: C:\\buildkite-agent\\builds\\buildkite-windows-cpu-autoscaling-group-i-08cbc0333d8d4aae1-1\\xgboost\\xgboost-ci-windows\\src\\learner.cc:740: \n",
      "Parameters: { \"use_label_encoder\" } are not used.\n",
      "\n",
      "  warnings.warn(smsg, UserWarning)\n"
     ]
    },
    {
     "name": "stdout",
     "output_type": "stream",
     "text": [
      "MFCC: 13\n",
      "[[1013   64   18]\n",
      " [ 172  293  227]\n",
      " [   6   33  934]]\n",
      "Fitting 3 folds for each of 10 candidates, totalling 30 fits\n"
     ]
    },
    {
     "name": "stderr",
     "output_type": "stream",
     "text": [
      "c:\\Users\\manhm\\anaconda3\\Lib\\site-packages\\xgboost\\core.py:158: UserWarning: [23:25:56] WARNING: C:\\buildkite-agent\\builds\\buildkite-windows-cpu-autoscaling-group-i-08cbc0333d8d4aae1-1\\xgboost\\xgboost-ci-windows\\src\\learner.cc:740: \n",
      "Parameters: { \"use_label_encoder\" } are not used.\n",
      "\n",
      "  warnings.warn(smsg, UserWarning)\n"
     ]
    },
    {
     "name": "stdout",
     "output_type": "stream",
     "text": [
      "MFCC: 20\n",
      "[[1018   65   12]\n",
      " [ 188  286  218]\n",
      " [   5   21  947]]\n",
      "Fitting 3 folds for each of 10 candidates, totalling 30 fits\n"
     ]
    },
    {
     "name": "stderr",
     "output_type": "stream",
     "text": [
      "c:\\Users\\manhm\\anaconda3\\Lib\\site-packages\\xgboost\\core.py:158: UserWarning: [23:26:25] WARNING: C:\\buildkite-agent\\builds\\buildkite-windows-cpu-autoscaling-group-i-08cbc0333d8d4aae1-1\\xgboost\\xgboost-ci-windows\\src\\learner.cc:740: \n",
      "Parameters: { \"use_label_encoder\" } are not used.\n",
      "\n",
      "  warnings.warn(smsg, UserWarning)\n"
     ]
    },
    {
     "name": "stdout",
     "output_type": "stream",
     "text": [
      "MFCC: 40\n",
      "[[1037   43   15]\n",
      " [ 187  284  221]\n",
      " [   7   26  940]]\n",
      "Fitting 3 folds for each of 10 candidates, totalling 30 fits\n"
     ]
    },
    {
     "name": "stderr",
     "output_type": "stream",
     "text": [
      "c:\\Users\\manhm\\anaconda3\\Lib\\site-packages\\xgboost\\core.py:158: UserWarning: [23:27:24] WARNING: C:\\buildkite-agent\\builds\\buildkite-windows-cpu-autoscaling-group-i-08cbc0333d8d4aae1-1\\xgboost\\xgboost-ci-windows\\src\\learner.cc:740: \n",
      "Parameters: { \"use_label_encoder\" } are not used.\n",
      "\n",
      "  warnings.warn(smsg, UserWarning)\n"
     ]
    },
    {
     "name": "stdout",
     "output_type": "stream",
     "text": [
      "MFCC: 80\n",
      "[[1035   50   10]\n",
      " [ 176  294  222]\n",
      " [   4   25  944]]\n",
      "\n",
      "📌 Kết quả Batch 1:\n",
      "   numofMFCC  n_fft  Hop_length  \\\n",
      "0         13   1024         512   \n",
      "1         20   1024         512   \n",
      "2         40   1024         512   \n",
      "3         80   1024         512   \n",
      "\n",
      "                                Best_hyperparameters  test_accuracy  macro_f1  \\\n",
      "0  {'subsample': 0.7, 'n_estimators': 100, 'max_d...       0.811594  0.765295   \n",
      "1  {'subsample': 0.7, 'n_estimators': 100, 'max_d...       0.815580  0.767146   \n",
      "2  {'subsample': 0.7, 'n_estimators': 100, 'max_d...       0.819203  0.770009   \n",
      "3  {'subsample': 0.7, 'n_estimators': 100, 'max_d...       0.823551  0.776282   \n",
      "\n",
      "        time  \n",
      "0  10.866898  \n",
      "1  15.443852  \n",
      "2  29.285797  \n",
      "3  58.936234  \n",
      "\n",
      "📂 Batch 2\n",
      "Training XGBoost\n",
      "Fitting 3 folds for each of 10 candidates, totalling 30 fits\n"
     ]
    },
    {
     "name": "stderr",
     "output_type": "stream",
     "text": [
      "c:\\Users\\manhm\\anaconda3\\Lib\\site-packages\\xgboost\\core.py:158: UserWarning: [23:27:35] WARNING: C:\\buildkite-agent\\builds\\buildkite-windows-cpu-autoscaling-group-i-08cbc0333d8d4aae1-1\\xgboost\\xgboost-ci-windows\\src\\learner.cc:740: \n",
      "Parameters: { \"use_label_encoder\" } are not used.\n",
      "\n",
      "  warnings.warn(smsg, UserWarning)\n"
     ]
    },
    {
     "name": "stdout",
     "output_type": "stream",
     "text": [
      "MFCC: 13\n",
      "[[1018   55   22]\n",
      " [ 176  290  226]\n",
      " [   7   31  935]]\n",
      "Fitting 3 folds for each of 10 candidates, totalling 30 fits\n"
     ]
    },
    {
     "name": "stderr",
     "output_type": "stream",
     "text": [
      "c:\\Users\\manhm\\anaconda3\\Lib\\site-packages\\xgboost\\core.py:158: UserWarning: [23:27:49] WARNING: C:\\buildkite-agent\\builds\\buildkite-windows-cpu-autoscaling-group-i-08cbc0333d8d4aae1-1\\xgboost\\xgboost-ci-windows\\src\\learner.cc:740: \n",
      "Parameters: { \"use_label_encoder\" } are not used.\n",
      "\n",
      "  warnings.warn(smsg, UserWarning)\n"
     ]
    },
    {
     "name": "stdout",
     "output_type": "stream",
     "text": [
      "MFCC: 20\n",
      "[[1020   69    6]\n",
      " [ 171  306  215]\n",
      " [   3   36  934]]\n",
      "Fitting 3 folds for each of 10 candidates, totalling 30 fits\n"
     ]
    },
    {
     "name": "stderr",
     "output_type": "stream",
     "text": [
      "c:\\Users\\manhm\\anaconda3\\Lib\\site-packages\\xgboost\\core.py:158: UserWarning: [23:28:16] WARNING: C:\\buildkite-agent\\builds\\buildkite-windows-cpu-autoscaling-group-i-08cbc0333d8d4aae1-1\\xgboost\\xgboost-ci-windows\\src\\learner.cc:740: \n",
      "Parameters: { \"use_label_encoder\" } are not used.\n",
      "\n",
      "  warnings.warn(smsg, UserWarning)\n"
     ]
    },
    {
     "name": "stdout",
     "output_type": "stream",
     "text": [
      "MFCC: 40\n",
      "[[1035   45   15]\n",
      " [ 198  269  225]\n",
      " [   7   20  946]]\n",
      "Fitting 3 folds for each of 10 candidates, totalling 30 fits\n"
     ]
    },
    {
     "name": "stderr",
     "output_type": "stream",
     "text": [
      "c:\\Users\\manhm\\anaconda3\\Lib\\site-packages\\xgboost\\core.py:158: UserWarning: [23:29:19] WARNING: C:\\buildkite-agent\\builds\\buildkite-windows-cpu-autoscaling-group-i-08cbc0333d8d4aae1-1\\xgboost\\xgboost-ci-windows\\src\\learner.cc:740: \n",
      "Parameters: { \"use_label_encoder\" } are not used.\n",
      "\n",
      "  warnings.warn(smsg, UserWarning)\n"
     ]
    },
    {
     "name": "stdout",
     "output_type": "stream",
     "text": [
      "MFCC: 80\n",
      "[[1039   46   10]\n",
      " [ 178  285  229]\n",
      " [   6   24  943]]\n",
      "\n",
      "📌 Kết quả Batch 2:\n",
      "   numofMFCC  n_fft  Hop_length  \\\n",
      "0         13   2048         512   \n",
      "1         20   2048         512   \n",
      "2         40   2048         512   \n",
      "3         80   2048         512   \n",
      "\n",
      "                                Best_hyperparameters  test_accuracy  macro_f1  \\\n",
      "0  {'subsample': 0.7, 'n_estimators': 100, 'max_d...       0.812681  0.765726   \n",
      "1  {'subsample': 0.8, 'n_estimators': 100, 'max_d...       0.818841  0.774630   \n",
      "2  {'subsample': 0.7, 'n_estimators': 100, 'max_d...       0.815217  0.762403   \n",
      "3  {'subsample': 0.7, 'n_estimators': 100, 'max_d...       0.821377  0.772016   \n",
      "\n",
      "        time  \n",
      "0  10.126515  \n",
      "1  13.911368  \n",
      "2  27.521587  \n",
      "3  63.812377  \n",
      "\n",
      "📂 Batch 3\n",
      "Training XGBoost\n",
      "Fitting 3 folds for each of 10 candidates, totalling 30 fits\n"
     ]
    },
    {
     "name": "stderr",
     "output_type": "stream",
     "text": [
      "c:\\Users\\manhm\\anaconda3\\Lib\\site-packages\\xgboost\\core.py:158: UserWarning: [23:29:30] WARNING: C:\\buildkite-agent\\builds\\buildkite-windows-cpu-autoscaling-group-i-08cbc0333d8d4aae1-1\\xgboost\\xgboost-ci-windows\\src\\learner.cc:740: \n",
      "Parameters: { \"use_label_encoder\" } are not used.\n",
      "\n",
      "  warnings.warn(smsg, UserWarning)\n"
     ]
    },
    {
     "name": "stdout",
     "output_type": "stream",
     "text": [
      "MFCC: 13\n",
      "[[1016   61   18]\n",
      " [ 178  283  231]\n",
      " [   7   31  935]]\n",
      "Fitting 3 folds for each of 10 candidates, totalling 30 fits\n"
     ]
    },
    {
     "name": "stderr",
     "output_type": "stream",
     "text": [
      "c:\\Users\\manhm\\anaconda3\\Lib\\site-packages\\xgboost\\core.py:158: UserWarning: [23:29:43] WARNING: C:\\buildkite-agent\\builds\\buildkite-windows-cpu-autoscaling-group-i-08cbc0333d8d4aae1-1\\xgboost\\xgboost-ci-windows\\src\\learner.cc:740: \n",
      "Parameters: { \"use_label_encoder\" } are not used.\n",
      "\n",
      "  warnings.warn(smsg, UserWarning)\n"
     ]
    },
    {
     "name": "stdout",
     "output_type": "stream",
     "text": [
      "MFCC: 20\n",
      "[[1022   61   12]\n",
      " [ 189  279  224]\n",
      " [   5   18  950]]\n",
      "Fitting 3 folds for each of 10 candidates, totalling 30 fits\n"
     ]
    },
    {
     "name": "stderr",
     "output_type": "stream",
     "text": [
      "c:\\Users\\manhm\\anaconda3\\Lib\\site-packages\\xgboost\\core.py:158: UserWarning: [23:30:10] WARNING: C:\\buildkite-agent\\builds\\buildkite-windows-cpu-autoscaling-group-i-08cbc0333d8d4aae1-1\\xgboost\\xgboost-ci-windows\\src\\learner.cc:740: \n",
      "Parameters: { \"use_label_encoder\" } are not used.\n",
      "\n",
      "  warnings.warn(smsg, UserWarning)\n"
     ]
    },
    {
     "name": "stdout",
     "output_type": "stream",
     "text": [
      "MFCC: 40\n",
      "[[1033   46   16]\n",
      " [ 197  270  225]\n",
      " [  10   19  944]]\n",
      "Fitting 3 folds for each of 10 candidates, totalling 30 fits\n"
     ]
    },
    {
     "name": "stderr",
     "output_type": "stream",
     "text": [
      "c:\\Users\\manhm\\anaconda3\\Lib\\site-packages\\xgboost\\core.py:158: UserWarning: [23:31:07] WARNING: C:\\buildkite-agent\\builds\\buildkite-windows-cpu-autoscaling-group-i-08cbc0333d8d4aae1-1\\xgboost\\xgboost-ci-windows\\src\\learner.cc:740: \n",
      "Parameters: { \"use_label_encoder\" } are not used.\n",
      "\n",
      "  warnings.warn(smsg, UserWarning)\n"
     ]
    },
    {
     "name": "stdout",
     "output_type": "stream",
     "text": [
      "MFCC: 80\n",
      "[[1024   64    7]\n",
      " [ 174  287  231]\n",
      " [   6   27  940]]\n",
      "\n",
      "📌 Kết quả Batch 3:\n",
      "   numofMFCC  n_fft  Hop_length  \\\n",
      "0         13   2048        1024   \n",
      "1         20   2048        1024   \n",
      "2         40   2048        1024   \n",
      "3         80   2048        1024   \n",
      "\n",
      "                                Best_hyperparameters  test_accuracy  macro_f1  \\\n",
      "0  {'subsample': 0.7, 'n_estimators': 100, 'max_d...        0.80942  0.760807   \n",
      "1  {'subsample': 0.7, 'n_estimators': 100, 'max_d...        0.81558  0.765310   \n",
      "2  {'subsample': 0.7, 'n_estimators': 100, 'max_d...        0.81413  0.761828   \n",
      "3  {'subsample': 0.7, 'n_estimators': 100, 'max_d...        0.81558  0.767094   \n",
      "\n",
      "        time  \n",
      "0   9.598730  \n",
      "1  13.692915  \n",
      "2  27.394476  \n",
      "3  56.807911  \n"
     ]
    }
   ],
   "source": [
    "import pandas as pd\n",
    "import numpy as np\n",
    "import time\n",
    "from sklearn.preprocessing import StandardScaler\n",
    "from sklearn.model_selection import RandomizedSearchCV\n",
    "from sklearn.metrics import accuracy_score, f1_score, confusion_matrix\n",
    "from xgboost import XGBClassifier  # Import XGBoost\n",
    "\n",
    "def load_data_by_batch(csv_path, batch_id):\n",
    "    df = pd.read_csv(csv_path)\n",
    "    df[\"Bộ\"] = df[\"Bộ\"].astype(int)\n",
    "    batch_df = df[df[\"Bộ\"] == batch_id]\n",
    "    \n",
    "    n_fft = batch_df[\"n_fft\"].values[0]\n",
    "    hop_length = batch_df[\"hop_length\"].values[0]\n",
    "    \n",
    "    train_row = batch_df[batch_df[\"Tập\"] == \"train\"]\n",
    "    test_row = batch_df[batch_df[\"Tập\"] == \"test\"]\n",
    "    \n",
    "    X_train = np.load(train_row[\"X_file_path\"].values[0])\n",
    "    y_train = np.load(train_row[\"y_file_path\"].values[0])\n",
    "    X_test = np.load(test_row[\"X_file_path\"].values[0])\n",
    "    y_test = np.load(test_row[\"y_file_path\"].values[0])\n",
    "    \n",
    "    return X_train, y_train, X_test, y_test, n_fft, hop_length\n",
    "\n",
    "def run_xgb_experiment(X_train, y_train, X_test, y_test, n_fft, hop_length, mfcc_steps):\n",
    "    scaler = StandardScaler()\n",
    "    X_train_scaled = scaler.fit_transform(X_train.reshape(X_train.shape[0], -1))\n",
    "    X_test_scaled = scaler.transform(X_test.reshape(X_test.shape[0], -1))\n",
    "    \n",
    "    xgb = XGBClassifier(random_state=42, use_label_encoder=False, eval_metric='mlogloss')\n",
    "    xgb_params = {\n",
    "        'n_estimators': [100, 200, 300],\n",
    "        'max_depth': [3, 5, 7, 10],\n",
    "        'learning_rate': [0.01, 0.05, 0.1, 0.2],\n",
    "        'subsample': [0.7, 0.8, 0.9, 1.0],\n",
    "        'colsample_bytree': [0.7, 0.8, 0.9, 1.0]\n",
    "    }\n",
    "    \n",
    "    results = []\n",
    "    for i in mfcc_steps:\n",
    "        X_train_subset = X_train_scaled[:, :i]\n",
    "        X_test_subset = X_test_scaled[:, :i]\n",
    "        \n",
    "        start_time = time.time()\n",
    "        random_search = RandomizedSearchCV(xgb, xgb_params, n_iter=10, cv=3, random_state=42, n_jobs=-1, verbose=1)\n",
    "        random_search.fit(X_train_subset, y_train)\n",
    "        \n",
    "        best_params = random_search.best_params_\n",
    "        y_pred = random_search.predict(X_test_subset)\n",
    "        test_accuracy = accuracy_score(y_test, y_pred)\n",
    "        macro_f1 = f1_score(y_test, y_pred, average='macro')\n",
    "        confusion = confusion_matrix(y_test, y_pred)\n",
    "        \n",
    "        print(f\"MFCC: {i}\")\n",
    "        print(confusion)\n",
    "        \n",
    "        elapsed_time = time.time() - start_time\n",
    "        results.append({\n",
    "            'numofMFCC': i,\n",
    "            'n_fft': n_fft,\n",
    "            'Hop_length': hop_length,\n",
    "            'Best_hyperparameters': best_params,\n",
    "            'test_accuracy': test_accuracy,\n",
    "            'macro_f1': macro_f1,\n",
    "            'time': elapsed_time\n",
    "        })\n",
    "    \n",
    "    return pd.DataFrame(results)\n",
    "\n",
    "# Chạy thử nghiệm với XGBoost\n",
    "mfcc_steps = [13, 20, 40, 80]\n",
    "csv_path = r\"C:\\Users\\manhm\\Desktop\\BeeSoundClassifier\\data\\extracted_features\\mfcc\\mfcc_extraction_log.csv\"\n",
    "\n",
    "for i in range(0, 4):\n",
    "    batch_id = i\n",
    "    data = load_data_by_batch(csv_path, batch_id)\n",
    "    \n",
    "    if data is None:\n",
    "        continue\n",
    "    \n",
    "    print(f\"\\n📂 Batch {batch_id}\")\n",
    "    print(\"Training XGBoost\")\n",
    "    X_train, y_train, X_test, y_test, n_fft, hop_length = data\n",
    "    df = run_xgb_experiment(X_train, y_train, X_test, y_test, n_fft, hop_length, mfcc_steps)\n",
    "    \n",
    "    print(f\"\\n📌 Kết quả Batch {batch_id}:\")\n",
    "    print(df)\n",
    "    \n",
    "    df.to_csv(f\"xgb_results_batch_{batch_id}.csv\", index=False)\n"
   ]
  }
 ],
 "metadata": {
  "kernelspec": {
   "display_name": "base",
   "language": "python",
   "name": "python3"
  },
  "language_info": {
   "codemirror_mode": {
    "name": "ipython",
    "version": 3
   },
   "file_extension": ".py",
   "mimetype": "text/x-python",
   "name": "python",
   "nbconvert_exporter": "python",
   "pygments_lexer": "ipython3",
   "version": "3.11.5"
  }
 },
 "nbformat": 4,
 "nbformat_minor": 2
}
