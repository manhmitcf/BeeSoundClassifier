{
 "cells": [
  {
   "cell_type": "code",
   "execution_count": 4,
   "metadata": {},
   "outputs": [],
   "source": [
    "import import_ipynb\n",
    "from mfcc import read_data_and_convert_to_mfcc\n",
    "import numpy as np\n",
    "import pandas as pd\n",
    "import os"
   ]
  },
  {
   "cell_type": "code",
   "execution_count": 5,
   "metadata": {},
   "outputs": [],
   "source": [
    "# Tham số\n",
    "n_mfcc = 80\n",
    "fft_hop_combinations = [\n",
    "    (1024, 256),\n",
    "    (1024, 512),\n",
    "    (2048, 512),\n",
    "    (2048, 1024),\n",
    "]"
   ]
  },
  {
   "cell_type": "code",
   "execution_count": 6,
   "metadata": {},
   "outputs": [],
   "source": [
    "# Thư mục lưu kết quả\n",
    "folder_mfcc = r'C:\\Users\\manhm\\Desktop\\BeeSoundClassifier\\data\\extracted_features\\mfcc'\n"
   ]
  },
  {
   "cell_type": "code",
   "execution_count": 7,
   "metadata": {},
   "outputs": [
    {
     "name": "stdout",
     "output_type": "stream",
     "text": [
      "🔍 Đang chạy với n_fft=1024, hop_length=256...\n"
     ]
    },
    {
     "name": "stderr",
     "output_type": "stream",
     "text": [
      "Processing C:\\Users\\manhm\\Desktop\\BeeSoundClassifier\\data\\split\\train\\bee: 100%|██████████| 4378/4378 [00:36<00:00, 120.33it/s]\n",
      "Processing C:\\Users\\manhm\\Desktop\\BeeSoundClassifier\\data\\split\\train\\no_bee: 100%|██████████| 2766/2766 [00:19<00:00, 141.86it/s]\n",
      "Processing C:\\Users\\manhm\\Desktop\\BeeSoundClassifier\\data\\split\\train\\noqueen: 100%|██████████| 3888/3888 [00:31<00:00, 123.86it/s]\n",
      "Processing C:\\Users\\manhm\\Desktop\\BeeSoundClassifier\\data\\split\\test\\bee: 100%|██████████| 1095/1095 [00:07<00:00, 148.28it/s]\n",
      "Processing C:\\Users\\manhm\\Desktop\\BeeSoundClassifier\\data\\split\\test\\no_bee: 100%|██████████| 692/692 [00:05<00:00, 126.00it/s]\n",
      "Processing C:\\Users\\manhm\\Desktop\\BeeSoundClassifier\\data\\split\\test\\noqueen: 100%|██████████| 973/973 [00:08<00:00, 118.71it/s]\n"
     ]
    },
    {
     "name": "stdout",
     "output_type": "stream",
     "text": [
      "🔍 Đang chạy với n_fft=1024, hop_length=512...\n"
     ]
    },
    {
     "name": "stderr",
     "output_type": "stream",
     "text": [
      "Processing C:\\Users\\manhm\\Desktop\\BeeSoundClassifier\\data\\split\\train\\bee: 100%|██████████| 4378/4378 [00:25<00:00, 171.03it/s]\n",
      "Processing C:\\Users\\manhm\\Desktop\\BeeSoundClassifier\\data\\split\\train\\no_bee: 100%|██████████| 2766/2766 [00:16<00:00, 165.94it/s]\n",
      "Processing C:\\Users\\manhm\\Desktop\\BeeSoundClassifier\\data\\split\\train\\noqueen: 100%|██████████| 3888/3888 [00:37<00:00, 103.56it/s]\n",
      "Processing C:\\Users\\manhm\\Desktop\\BeeSoundClassifier\\data\\split\\test\\bee: 100%|██████████| 1095/1095 [00:15<00:00, 69.92it/s]\n",
      "Processing C:\\Users\\manhm\\Desktop\\BeeSoundClassifier\\data\\split\\test\\no_bee: 100%|██████████| 692/692 [00:10<00:00, 66.00it/s]\n",
      "Processing C:\\Users\\manhm\\Desktop\\BeeSoundClassifier\\data\\split\\test\\noqueen: 100%|██████████| 973/973 [00:15<00:00, 61.19it/s]\n"
     ]
    },
    {
     "name": "stdout",
     "output_type": "stream",
     "text": [
      "🔍 Đang chạy với n_fft=2048, hop_length=512...\n"
     ]
    },
    {
     "name": "stderr",
     "output_type": "stream",
     "text": [
      "Processing C:\\Users\\manhm\\Desktop\\BeeSoundClassifier\\data\\split\\train\\bee: 100%|██████████| 4378/4378 [01:23<00:00, 52.36it/s]\n",
      "Processing C:\\Users\\manhm\\Desktop\\BeeSoundClassifier\\data\\split\\train\\no_bee: 100%|██████████| 2766/2766 [00:53<00:00, 51.56it/s]\n",
      "Processing C:\\Users\\manhm\\Desktop\\BeeSoundClassifier\\data\\split\\train\\noqueen: 100%|██████████| 3888/3888 [00:37<00:00, 102.71it/s]\n",
      "Processing C:\\Users\\manhm\\Desktop\\BeeSoundClassifier\\data\\split\\test\\bee: 100%|██████████| 1095/1095 [00:08<00:00, 131.44it/s]\n",
      "Processing C:\\Users\\manhm\\Desktop\\BeeSoundClassifier\\data\\split\\test\\no_bee: 100%|██████████| 692/692 [00:05<00:00, 119.51it/s]\n",
      "Processing C:\\Users\\manhm\\Desktop\\BeeSoundClassifier\\data\\split\\test\\noqueen: 100%|██████████| 973/973 [00:08<00:00, 110.14it/s]\n"
     ]
    },
    {
     "name": "stdout",
     "output_type": "stream",
     "text": [
      "🔍 Đang chạy với n_fft=2048, hop_length=1024...\n"
     ]
    },
    {
     "name": "stderr",
     "output_type": "stream",
     "text": [
      "Processing C:\\Users\\manhm\\Desktop\\BeeSoundClassifier\\data\\split\\train\\bee: 100%|██████████| 4378/4378 [00:28<00:00, 152.95it/s]\n",
      "Processing C:\\Users\\manhm\\Desktop\\BeeSoundClassifier\\data\\split\\train\\no_bee: 100%|██████████| 2766/2766 [00:20<00:00, 134.69it/s]\n",
      "Processing C:\\Users\\manhm\\Desktop\\BeeSoundClassifier\\data\\split\\train\\noqueen: 100%|██████████| 3888/3888 [00:31<00:00, 125.41it/s]\n",
      "Processing C:\\Users\\manhm\\Desktop\\BeeSoundClassifier\\data\\split\\test\\bee: 100%|██████████| 1095/1095 [00:07<00:00, 143.17it/s]\n",
      "Processing C:\\Users\\manhm\\Desktop\\BeeSoundClassifier\\data\\split\\test\\no_bee: 100%|██████████| 692/692 [00:05<00:00, 130.68it/s]\n",
      "Processing C:\\Users\\manhm\\Desktop\\BeeSoundClassifier\\data\\split\\test\\noqueen: 100%|██████████| 973/973 [00:07<00:00, 126.15it/s]"
     ]
    },
    {
     "name": "stdout",
     "output_type": "stream",
     "text": [
      "✅ Đã lưu kết quả vào C:\\Users\\manhm\\Desktop\\BeeSoundClassifier\\data\\extracted_features\\mfcc\\mfcc_extraction_log.csv\n"
     ]
    },
    {
     "name": "stderr",
     "output_type": "stream",
     "text": [
      "\n"
     ]
    }
   ],
   "source": [
    "# Dữ liệu kết quả\n",
    "data = []\n",
    "count = 0\n",
    "\n",
    "# Duyệt từng tổ hợp tham số\n",
    "for n_fft, hop_length in fft_hop_combinations:\n",
    "    print(f\"🔍 Đang chạy với n_fft={n_fft}, hop_length={hop_length}...\")\n",
    "    base_folder_path = r'C:\\Users\\manhm\\Desktop\\BeeSoundClassifier\\data\\split'\n",
    "    # Đọc dữ liệu và chuyển sang MFCC\n",
    "    X_train, y_train, X_test, y_test = read_data_and_convert_to_mfcc(base_folder_path,n_mfcc=n_mfcc, n_fft=n_fft, hop_length=hop_length)\n",
    "\n",
    "    # Tạo tên file để lưu\n",
    "    train_X_path = os.path.join(folder_mfcc, f\"train_X_nfft{n_fft}_hop{hop_length}.npy\")\n",
    "    train_y_path = os.path.join(folder_mfcc, f\"train_y_nfft{n_fft}_hop{hop_length}.npy\")\n",
    "    test_X_path = os.path.join(folder_mfcc, f\"test_X_nfft{n_fft}_hop{hop_length}.npy\")\n",
    "    test_y_path = os.path.join(folder_mfcc, f\"test_y_nfft{n_fft}_hop{hop_length}.npy\")\n",
    "\n",
    "    # Lưu dữ liệu thành file npy\n",
    "    np.save(train_X_path, X_train)\n",
    "    np.save(train_y_path, y_train)\n",
    "    np.save(test_X_path, X_test)\n",
    "    np.save(test_y_path, y_test)\n",
    "\n",
    "    # Ghi thông tin vào `data`\n",
    "    data.append([count, \"train\", n_mfcc, n_fft, hop_length, train_X_path, train_y_path])\n",
    "    data.append([count,\"test\", n_mfcc, n_fft, hop_length, test_X_path, test_y_path])\n",
    "    count += 1\n",
    "\n",
    "# Lưu thông tin vào DataFrame\n",
    "columns = [\"Bộ\", \"Tập\", \"Hệ số MFCC\", \"n_fft\", \"hop_length\", \"X_file_path\", \"y_file_path\"]\n",
    "df = pd.DataFrame(data, columns=columns)\n",
    "\n",
    "# Lưu DataFrame thành CSV để theo dõi\n",
    "csv_path = os.path.join(folder_mfcc, \"mfcc_extraction_log.csv\")\n",
    "df.to_csv(csv_path, index=False)\n",
    "\n",
    "print(f\"✅ Đã lưu kết quả vào {csv_path}\")"
   ]
  }
 ],
 "metadata": {
  "kernelspec": {
   "display_name": "base",
   "language": "python",
   "name": "python3"
  },
  "language_info": {
   "codemirror_mode": {
    "name": "ipython",
    "version": 3
   },
   "file_extension": ".py",
   "mimetype": "text/x-python",
   "name": "python",
   "nbconvert_exporter": "python",
   "pygments_lexer": "ipython3",
   "version": "3.11.5"
  }
 },
 "nbformat": 4,
 "nbformat_minor": 2
}
