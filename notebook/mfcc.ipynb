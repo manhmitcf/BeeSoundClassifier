{
 "cells": [
  {
   "cell_type": "code",
   "execution_count": 65,
   "metadata": {},
   "outputs": [],
   "source": [
    "import librosa\n",
    "import numpy as np\n",
    "import os\n",
    "import pandas as pd\n",
    "from tqdm import tqdm"
   ]
  },
  {
   "cell_type": "code",
   "execution_count": 66,
   "metadata": {},
   "outputs": [],
   "source": [
    "def extract_features_mfcc(file_path, n_mfcc=13, sr=22050, n_fft=2048, hop_length=512 ):\n",
    "    # Load file âm thanh\n",
    "    y, sr = librosa.load(file_path, sr=sr)\n",
    "\n",
    "    # Chuyển đổi thành MFCC\n",
    "    mfcc = librosa.feature.mfcc(y=y, sr=sr, n_mfcc=n_mfcc, n_fft=n_fft, hop_length=hop_length)\n",
    "    # Tính trung bình MFCC theo từng hệ số\n",
    "    mfcc_mean = np.mean(mfcc, axis=1)\n",
    "    return mfcc_mean"
   ]
  },
  {
   "cell_type": "code",
   "execution_count": 67,
   "metadata": {},
   "outputs": [],
   "source": [
    "def read_folder_and_convert_to_mfcc(folder_path, label, n_mfcc=13, sr=22050, n_fft=2048, hop_length=512):\n",
    "    \"\"\"Đọc tất cả file .wav trong thư mục và trích xuất MFCC + nhãn\"\"\"\n",
    "    X, y = [], []\n",
    "    for file in tqdm(os.listdir(folder_path), desc=f\"Processing {folder_path}\"):\n",
    "        if file.endswith('.wav'):\n",
    "            file_path = os.path.join(folder_path, file)\n",
    "            mfcc = extract_features_mfcc(file_path, n_mfcc=n_mfcc, sr=sr, n_fft=n_fft, hop_length=hop_length)\n",
    "            X.append(mfcc)\n",
    "            y.append(label)\n",
    "    return X, y"
   ]
  },
  {
   "cell_type": "code",
   "execution_count": null,
   "metadata": {},
   "outputs": [],
   "source": []
  },
  {
   "cell_type": "code",
   "execution_count": 68,
   "metadata": {},
   "outputs": [],
   "source": [
    "def read_data_and_convert_to_mfcc(base_folder_path, n_mfcc=13, sr=22050, n_fft=2048, hop_length=512):\n",
    "    X_train, y_train, X_test, y_test = [], [], [], []\n",
    "\n",
    "    for folder in ['train', 'test']:\n",
    "        folder_path = os.path.join(base_folder_path, folder)\n",
    "        class_folders = sorted(os.listdir(folder_path))  # Lấy danh sách các lớp (sắp xếp để nhãn đúng)\n",
    "        label_map = {cls: idx for idx, cls in enumerate(class_folders)}  # Gán nhãn số tự động\n",
    "\n",
    "        for subfolder in class_folders:\n",
    "            subfolder_path = os.path.join(folder_path, subfolder)\n",
    "            if os.path.isdir(subfolder_path):\n",
    "                label = label_map[subfolder]  # Lấy nhãn số\n",
    "\n",
    "                # Trích xuất MFCC\n",
    "                X, y = read_folder_and_convert_to_mfcc(subfolder_path, label, n_mfcc, sr, n_fft, hop_length)\n",
    "\n",
    "                # Thêm vào tập train hoặc test\n",
    "                if folder == \"train\":\n",
    "                    X_train.extend(X)\n",
    "                    y_train.extend(y)\n",
    "                else:\n",
    "                    X_test.extend(X)\n",
    "                    y_test.extend(y)\n",
    "\n",
    "    # Chuyển thành numpy array\n",
    "    return np.array(X_train), np.array(y_train), np.array(X_test), np.array(y_test)"
   ]
  },
  {
   "cell_type": "code",
   "execution_count": null,
   "metadata": {},
   "outputs": [],
   "source": [
    "if __name__ == '__main__':\n",
    "    base_folder_path = 'data'\n",
    "    X_train, y_train, X_test, y_test = read_data_and_convert_to_mfcc(base_folder_path)\n"
   ]
  }
 ],
 "metadata": {
  "kernelspec": {
   "display_name": "base",
   "language": "python",
   "name": "python3"
  },
  "language_info": {
   "codemirror_mode": {
    "name": "ipython",
    "version": 3
   },
   "file_extension": ".py",
   "mimetype": "text/x-python",
   "name": "python",
   "nbconvert_exporter": "python",
   "pygments_lexer": "ipython3",
   "version": "3.11.5"
  }
 },
 "nbformat": 4,
 "nbformat_minor": 2
}
