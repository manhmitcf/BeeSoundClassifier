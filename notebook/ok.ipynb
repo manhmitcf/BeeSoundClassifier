{
 "cells": [
  {
   "cell_type": "code",
   "execution_count": 1,
   "metadata": {},
   "outputs": [
    {
     "name": "stdout",
     "output_type": "stream",
     "text": [
      "📂 train - n_fft=1024, hop_length=256\n",
      "   🔹 X shape: (11032, 80)\n",
      "   🔸 y shape: (11032,)\n",
      "📂 test - n_fft=1024, hop_length=256\n",
      "   🔹 X shape: (2760, 80)\n",
      "   🔸 y shape: (2760,)\n",
      "📂 train - n_fft=1024, hop_length=512\n",
      "   🔹 X shape: (11032, 80)\n",
      "   🔸 y shape: (11032,)\n",
      "📂 test - n_fft=1024, hop_length=512\n",
      "   🔹 X shape: (2760, 80)\n",
      "   🔸 y shape: (2760,)\n",
      "📂 train - n_fft=2048, hop_length=512\n",
      "   🔹 X shape: (11032, 80)\n",
      "   🔸 y shape: (11032,)\n",
      "📂 test - n_fft=2048, hop_length=512\n",
      "   🔹 X shape: (2760, 80)\n",
      "   🔸 y shape: (2760,)\n",
      "📂 train - n_fft=2048, hop_length=1024\n",
      "   🔹 X shape: (11032, 80)\n",
      "   🔸 y shape: (11032,)\n",
      "📂 test - n_fft=2048, hop_length=1024\n",
      "   🔹 X shape: (2760, 80)\n",
      "   🔸 y shape: (2760,)\n"
     ]
    }
   ],
   "source": [
    "import pandas as pd\n",
    "import numpy as np\n",
    "\n",
    "# Đọc file CSV\n",
    "csv_path = r\"C:\\Users\\manhm\\Desktop\\BeeSoundClassifier\\data\\extracted_features\\mfcc\\mfcc_extraction_log.csv\"\n",
    "df = pd.read_csv(csv_path)\n",
    "\n",
    "# Duyệt qua từng dòng và in shape của từng file\n",
    "for index, row in df.iterrows():\n",
    "    x_file = row[\"X_file_path\"]\n",
    "    y_file = row[\"y_file_path\"]\n",
    "    \n",
    "    # Load dữ liệu\n",
    "    X_data = np.load(x_file)\n",
    "    y_data = np.load(y_file)\n",
    "    \n",
    "    # In shape\n",
    "    print(f\"📂 {row['Tập']} - n_fft={row['n_fft']}, hop_length={row['hop_length']}\")\n",
    "    print(f\"   🔹 X shape: {X_data.shape}\")\n",
    "    print(f\"   🔸 y shape: {y_data.shape}\")"
   ]
  }
 ],
 "metadata": {
  "kernelspec": {
   "display_name": "base",
   "language": "python",
   "name": "python3"
  },
  "language_info": {
   "codemirror_mode": {
    "name": "ipython",
    "version": 3
   },
   "file_extension": ".py",
   "mimetype": "text/x-python",
   "name": "python",
   "nbconvert_exporter": "python",
   "pygments_lexer": "ipython3",
   "version": "3.11.5"
  }
 },
 "nbformat": 4,
 "nbformat_minor": 2
}
